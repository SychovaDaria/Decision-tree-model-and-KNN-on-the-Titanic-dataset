{
 "cells": [
  {
   "cell_type": "code",
   "execution_count": 431,
   "id": "003f7995-4bc0-42d8-a9ac-456638cdd708",
   "metadata": {},
   "outputs": [],
   "source": [
    "import math\n",
    "import pandas as pd\n",
    "import numpy as np\n",
    "from sklearn.model_selection import train_test_split\n",
    "from sklearn.tree import DecisionTreeClassifier\n",
    "import sklearn.metrics as metrics\n",
    "import matplotlib.pyplot as plt\n",
    "from sklearn.model_selection import ParameterGrid\n",
    "from sklearn.neighbors import KNeighborsClassifier\n",
    "from sklearn.preprocessing import MinMaxScaler\n",
    "import matplotlib\n",
    "from sklearn.metrics import accuracy_score, classification_report, confusion_matrix\n"
   ]
  },
  {
   "cell_type": "markdown",
   "id": "519d0720",
   "metadata": {},
   "source": [
    "### Data info"
   ]
  },
  {
   "cell_type": "code",
   "execution_count": 432,
   "id": "72143314",
   "metadata": {},
   "outputs": [
    {
     "data": {
      "text/plain": [
       "(1000, 13)"
      ]
     },
     "metadata": {},
     "output_type": "display_data"
    },
    {
     "data": {
      "text/html": [
       "<div>\n",
       "<style scoped>\n",
       "    .dataframe tbody tr th:only-of-type {\n",
       "        vertical-align: middle;\n",
       "    }\n",
       "\n",
       "    .dataframe tbody tr th {\n",
       "        vertical-align: top;\n",
       "    }\n",
       "\n",
       "    .dataframe thead th {\n",
       "        text-align: right;\n",
       "    }\n",
       "</style>\n",
       "<table border=\"1\" class=\"dataframe\">\n",
       "  <thead>\n",
       "    <tr style=\"text-align: right;\">\n",
       "      <th></th>\n",
       "      <th>ID</th>\n",
       "      <th>survived</th>\n",
       "      <th>pclass</th>\n",
       "      <th>name</th>\n",
       "      <th>sex</th>\n",
       "      <th>age</th>\n",
       "      <th>sibsp</th>\n",
       "      <th>parch</th>\n",
       "      <th>ticket</th>\n",
       "      <th>fare</th>\n",
       "      <th>cabin</th>\n",
       "      <th>embarked</th>\n",
       "      <th>home.dest</th>\n",
       "    </tr>\n",
       "  </thead>\n",
       "  <tbody>\n",
       "    <tr>\n",
       "      <th>0</th>\n",
       "      <td>0</td>\n",
       "      <td>0</td>\n",
       "      <td>3</td>\n",
       "      <td>Goodwin, Master. William Frederick</td>\n",
       "      <td>male</td>\n",
       "      <td>11.0</td>\n",
       "      <td>5</td>\n",
       "      <td>2</td>\n",
       "      <td>CA 2144</td>\n",
       "      <td>46.9000</td>\n",
       "      <td>NaN</td>\n",
       "      <td>S</td>\n",
       "      <td>Wiltshire, England Niagara Falls, NY</td>\n",
       "    </tr>\n",
       "    <tr>\n",
       "      <th>1</th>\n",
       "      <td>1</td>\n",
       "      <td>0</td>\n",
       "      <td>3</td>\n",
       "      <td>Jardin, Mr. Jose Neto</td>\n",
       "      <td>male</td>\n",
       "      <td>NaN</td>\n",
       "      <td>0</td>\n",
       "      <td>0</td>\n",
       "      <td>SOTON/O.Q. 3101305</td>\n",
       "      <td>7.0500</td>\n",
       "      <td>NaN</td>\n",
       "      <td>S</td>\n",
       "      <td>NaN</td>\n",
       "    </tr>\n",
       "    <tr>\n",
       "      <th>2</th>\n",
       "      <td>2</td>\n",
       "      <td>0</td>\n",
       "      <td>3</td>\n",
       "      <td>Skoog, Master. Harald</td>\n",
       "      <td>male</td>\n",
       "      <td>4.0</td>\n",
       "      <td>3</td>\n",
       "      <td>2</td>\n",
       "      <td>347088</td>\n",
       "      <td>27.9000</td>\n",
       "      <td>NaN</td>\n",
       "      <td>S</td>\n",
       "      <td>NaN</td>\n",
       "    </tr>\n",
       "    <tr>\n",
       "      <th>3</th>\n",
       "      <td>3</td>\n",
       "      <td>1</td>\n",
       "      <td>3</td>\n",
       "      <td>O'Brien, Mrs. Thomas (Johanna \"Hannah\" Godfrey)</td>\n",
       "      <td>female</td>\n",
       "      <td>NaN</td>\n",
       "      <td>1</td>\n",
       "      <td>0</td>\n",
       "      <td>370365</td>\n",
       "      <td>15.5000</td>\n",
       "      <td>NaN</td>\n",
       "      <td>Q</td>\n",
       "      <td>NaN</td>\n",
       "    </tr>\n",
       "    <tr>\n",
       "      <th>4</th>\n",
       "      <td>4</td>\n",
       "      <td>1</td>\n",
       "      <td>3</td>\n",
       "      <td>Abrahim, Mrs. Joseph (Sophie Halaut Easu)</td>\n",
       "      <td>female</td>\n",
       "      <td>18.0</td>\n",
       "      <td>0</td>\n",
       "      <td>0</td>\n",
       "      <td>2657</td>\n",
       "      <td>7.2292</td>\n",
       "      <td>NaN</td>\n",
       "      <td>C</td>\n",
       "      <td>Greensburg, PA</td>\n",
       "    </tr>\n",
       "  </tbody>\n",
       "</table>\n",
       "</div>"
      ],
      "text/plain": [
       "   ID  survived  pclass                                             name  \\\n",
       "0   0         0       3               Goodwin, Master. William Frederick   \n",
       "1   1         0       3                            Jardin, Mr. Jose Neto   \n",
       "2   2         0       3                            Skoog, Master. Harald   \n",
       "3   3         1       3  O'Brien, Mrs. Thomas (Johanna \"Hannah\" Godfrey)   \n",
       "4   4         1       3        Abrahim, Mrs. Joseph (Sophie Halaut Easu)   \n",
       "\n",
       "      sex   age  sibsp  parch              ticket     fare cabin embarked  \\\n",
       "0    male  11.0      5      2             CA 2144  46.9000   NaN        S   \n",
       "1    male   NaN      0      0  SOTON/O.Q. 3101305   7.0500   NaN        S   \n",
       "2    male   4.0      3      2              347088  27.9000   NaN        S   \n",
       "3  female   NaN      1      0              370365  15.5000   NaN        Q   \n",
       "4  female  18.0      0      0                2657   7.2292   NaN        C   \n",
       "\n",
       "                              home.dest  \n",
       "0  Wiltshire, England Niagara Falls, NY  \n",
       "1                                   NaN  \n",
       "2                                   NaN  \n",
       "3                                   NaN  \n",
       "4                        Greensburg, PA  "
      ]
     },
     "metadata": {},
     "output_type": "display_data"
    },
    {
     "name": "stdout",
     "output_type": "stream",
     "text": [
      "<class 'pandas.core.frame.DataFrame'>\n",
      "RangeIndex: 1000 entries, 0 to 999\n",
      "Data columns (total 13 columns):\n",
      " #   Column     Non-Null Count  Dtype  \n",
      "---  ------     --------------  -----  \n",
      " 0   ID         1000 non-null   int64  \n",
      " 1   survived   1000 non-null   int64  \n",
      " 2   pclass     1000 non-null   int64  \n",
      " 3   name       1000 non-null   object \n",
      " 4   sex        1000 non-null   object \n",
      " 5   age        802 non-null    float64\n",
      " 6   sibsp      1000 non-null   int64  \n",
      " 7   parch      1000 non-null   int64  \n",
      " 8   ticket     1000 non-null   object \n",
      " 9   fare       999 non-null    float64\n",
      " 10  cabin      233 non-null    object \n",
      " 11  embarked   998 non-null    object \n",
      " 12  home.dest  566 non-null    object \n",
      "dtypes: float64(2), int64(5), object(6)\n",
      "memory usage: 101.7+ KB\n"
     ]
    },
    {
     "data": {
      "text/plain": [
       "None"
      ]
     },
     "metadata": {},
     "output_type": "display_data"
    },
    {
     "data": {
      "text/html": [
       "<div>\n",
       "<style scoped>\n",
       "    .dataframe tbody tr th:only-of-type {\n",
       "        vertical-align: middle;\n",
       "    }\n",
       "\n",
       "    .dataframe tbody tr th {\n",
       "        vertical-align: top;\n",
       "    }\n",
       "\n",
       "    .dataframe thead th {\n",
       "        text-align: right;\n",
       "    }\n",
       "</style>\n",
       "<table border=\"1\" class=\"dataframe\">\n",
       "  <thead>\n",
       "    <tr style=\"text-align: right;\">\n",
       "      <th></th>\n",
       "      <th>ID</th>\n",
       "      <th>survived</th>\n",
       "      <th>pclass</th>\n",
       "      <th>age</th>\n",
       "      <th>sibsp</th>\n",
       "      <th>parch</th>\n",
       "      <th>fare</th>\n",
       "    </tr>\n",
       "  </thead>\n",
       "  <tbody>\n",
       "    <tr>\n",
       "      <th>count</th>\n",
       "      <td>1000.000000</td>\n",
       "      <td>1000.00000</td>\n",
       "      <td>1000.000000</td>\n",
       "      <td>802.000000</td>\n",
       "      <td>1000.000000</td>\n",
       "      <td>1000.00000</td>\n",
       "      <td>999.000000</td>\n",
       "    </tr>\n",
       "    <tr>\n",
       "      <th>mean</th>\n",
       "      <td>499.500000</td>\n",
       "      <td>0.39800</td>\n",
       "      <td>2.288000</td>\n",
       "      <td>29.850686</td>\n",
       "      <td>0.496000</td>\n",
       "      <td>0.40200</td>\n",
       "      <td>34.264352</td>\n",
       "    </tr>\n",
       "    <tr>\n",
       "      <th>std</th>\n",
       "      <td>288.819436</td>\n",
       "      <td>0.48973</td>\n",
       "      <td>0.840096</td>\n",
       "      <td>14.328743</td>\n",
       "      <td>1.024223</td>\n",
       "      <td>0.91719</td>\n",
       "      <td>53.315077</td>\n",
       "    </tr>\n",
       "    <tr>\n",
       "      <th>min</th>\n",
       "      <td>0.000000</td>\n",
       "      <td>0.00000</td>\n",
       "      <td>1.000000</td>\n",
       "      <td>0.166700</td>\n",
       "      <td>0.000000</td>\n",
       "      <td>0.00000</td>\n",
       "      <td>0.000000</td>\n",
       "    </tr>\n",
       "    <tr>\n",
       "      <th>25%</th>\n",
       "      <td>249.750000</td>\n",
       "      <td>0.00000</td>\n",
       "      <td>1.750000</td>\n",
       "      <td>21.000000</td>\n",
       "      <td>0.000000</td>\n",
       "      <td>0.00000</td>\n",
       "      <td>7.925000</td>\n",
       "    </tr>\n",
       "    <tr>\n",
       "      <th>50%</th>\n",
       "      <td>499.500000</td>\n",
       "      <td>0.00000</td>\n",
       "      <td>3.000000</td>\n",
       "      <td>28.000000</td>\n",
       "      <td>0.000000</td>\n",
       "      <td>0.00000</td>\n",
       "      <td>14.458300</td>\n",
       "    </tr>\n",
       "    <tr>\n",
       "      <th>75%</th>\n",
       "      <td>749.250000</td>\n",
       "      <td>1.00000</td>\n",
       "      <td>3.000000</td>\n",
       "      <td>39.000000</td>\n",
       "      <td>1.000000</td>\n",
       "      <td>0.00000</td>\n",
       "      <td>31.275000</td>\n",
       "    </tr>\n",
       "    <tr>\n",
       "      <th>max</th>\n",
       "      <td>999.000000</td>\n",
       "      <td>1.00000</td>\n",
       "      <td>3.000000</td>\n",
       "      <td>80.000000</td>\n",
       "      <td>8.000000</td>\n",
       "      <td>9.00000</td>\n",
       "      <td>512.329200</td>\n",
       "    </tr>\n",
       "  </tbody>\n",
       "</table>\n",
       "</div>"
      ],
      "text/plain": [
       "                ID    survived       pclass         age        sibsp  \\\n",
       "count  1000.000000  1000.00000  1000.000000  802.000000  1000.000000   \n",
       "mean    499.500000     0.39800     2.288000   29.850686     0.496000   \n",
       "std     288.819436     0.48973     0.840096   14.328743     1.024223   \n",
       "min       0.000000     0.00000     1.000000    0.166700     0.000000   \n",
       "25%     249.750000     0.00000     1.750000   21.000000     0.000000   \n",
       "50%     499.500000     0.00000     3.000000   28.000000     0.000000   \n",
       "75%     749.250000     1.00000     3.000000   39.000000     1.000000   \n",
       "max     999.000000     1.00000     3.000000   80.000000     8.000000   \n",
       "\n",
       "            parch        fare  \n",
       "count  1000.00000  999.000000  \n",
       "mean      0.40200   34.264352  \n",
       "std       0.91719   53.315077  \n",
       "min       0.00000    0.000000  \n",
       "25%       0.00000    7.925000  \n",
       "50%       0.00000   14.458300  \n",
       "75%       0.00000   31.275000  \n",
       "max       9.00000  512.329200  "
      ]
     },
     "metadata": {},
     "output_type": "display_data"
    },
    {
     "data": {
      "text/plain": [
       "ID           1000\n",
       "survived        2\n",
       "pclass          3\n",
       "name          999\n",
       "sex             2\n",
       "age            95\n",
       "sibsp           7\n",
       "parch           8\n",
       "ticket        746\n",
       "fare          254\n",
       "cabin         157\n",
       "embarked        3\n",
       "home.dest     313\n",
       "dtype: int64"
      ]
     },
     "metadata": {},
     "output_type": "display_data"
    }
   ],
   "source": [
    "df = pd.read_csv(\"data.csv\")\n",
    "display(df.shape)\n",
    "display(df.head())\n",
    "display(df.info())\n",
    "display(df.describe())\n",
    "display(df.nunique())"
   ]
  },
  {
   "cell_type": "code",
   "execution_count": 433,
   "id": "c6567ca1",
   "metadata": {},
   "outputs": [
    {
     "data": {
      "text/plain": [
       "ID             0\n",
       "survived       0\n",
       "pclass         0\n",
       "name           0\n",
       "sex            0\n",
       "age          198\n",
       "sibsp          0\n",
       "parch          0\n",
       "ticket         0\n",
       "fare           1\n",
       "cabin        767\n",
       "embarked       2\n",
       "home.dest    434\n",
       "dtype: int64"
      ]
     },
     "execution_count": 433,
     "metadata": {},
     "output_type": "execute_result"
    }
   ],
   "source": [
    " df.isnull().sum() "
   ]
  },
  {
   "cell_type": "code",
   "execution_count": 434,
   "id": "ad569816",
   "metadata": {},
   "outputs": [
    {
     "data": {
      "text/plain": [
       "0"
      ]
     },
     "execution_count": 434,
     "metadata": {},
     "output_type": "execute_result"
    }
   ],
   "source": [
    " df.duplicated().sum()"
   ]
  },
  {
   "cell_type": "markdown",
   "id": "d21b9e90",
   "metadata": {},
   "source": [
    "### Data preparation"
   ]
  },
  {
   "cell_type": "code",
   "execution_count": 435,
   "id": "b1104ef5",
   "metadata": {},
   "outputs": [
    {
     "name": "stdout",
     "output_type": "stream",
     "text": [
      "Index(['name', 'sex', 'ticket', 'cabin', 'embarked', 'home.dest'], dtype='object')\n"
     ]
    },
    {
     "data": {
      "text/plain": [
       "name         999\n",
       "sex            2\n",
       "ticket       746\n",
       "cabin        157\n",
       "embarked       3\n",
       "home.dest    313\n",
       "dtype: int64"
      ]
     },
     "execution_count": 435,
     "metadata": {},
     "output_type": "execute_result"
    }
   ],
   "source": [
    "# checking what data is object\n",
    "print(df.select_dtypes(['object']).columns)\n",
    "df.select_dtypes(['object']).nunique()"
   ]
  },
  {
   "cell_type": "code",
   "execution_count": 436,
   "id": "e5ad9a48",
   "metadata": {},
   "outputs": [],
   "source": [
    "#changing object type to category\n",
    "df[df.select_dtypes(['object']).columns] =df.select_dtypes(['object']).astype('category')\n"
   ]
  },
  {
   "cell_type": "code",
   "execution_count": 437,
   "id": "837ca420",
   "metadata": {},
   "outputs": [
    {
     "name": "stdout",
     "output_type": "stream",
     "text": [
      "<class 'pandas.core.frame.DataFrame'>\n",
      "RangeIndex: 1000 entries, 0 to 999\n",
      "Data columns (total 13 columns):\n",
      " #   Column     Non-Null Count  Dtype  \n",
      "---  ------     --------------  -----  \n",
      " 0   ID         1000 non-null   int64  \n",
      " 1   survived   1000 non-null   int64  \n",
      " 2   pclass     1000 non-null   int64  \n",
      " 3   name       1000 non-null   int16  \n",
      " 4   sex        1000 non-null   int8   \n",
      " 5   age        802 non-null    float64\n",
      " 6   sibsp      1000 non-null   int64  \n",
      " 7   parch      1000 non-null   int64  \n",
      " 8   ticket     1000 non-null   int16  \n",
      " 9   fare       999 non-null    float64\n",
      " 10  cabin      1000 non-null   int16  \n",
      " 11  embarked   1000 non-null   int8   \n",
      " 12  home.dest  1000 non-null   int16  \n",
      "dtypes: float64(2), int16(4), int64(5), int8(2)\n",
      "memory usage: 64.6 KB\n"
     ]
    }
   ],
   "source": [
    "# making the data of the category type into a number type\n",
    "df[df.select_dtypes(['category']).columns] = df.select_dtypes(['category']).apply(lambda x: x.cat.codes)\n",
    "df.info()"
   ]
  },
  {
   "cell_type": "code",
   "execution_count": 438,
   "id": "960745e9",
   "metadata": {},
   "outputs": [
    {
     "data": {
      "text/html": [
       "<div>\n",
       "<style scoped>\n",
       "    .dataframe tbody tr th:only-of-type {\n",
       "        vertical-align: middle;\n",
       "    }\n",
       "\n",
       "    .dataframe tbody tr th {\n",
       "        vertical-align: top;\n",
       "    }\n",
       "\n",
       "    .dataframe thead th {\n",
       "        text-align: right;\n",
       "    }\n",
       "</style>\n",
       "<table border=\"1\" class=\"dataframe\">\n",
       "  <thead>\n",
       "    <tr style=\"text-align: right;\">\n",
       "      <th></th>\n",
       "      <th>ID</th>\n",
       "      <th>survived</th>\n",
       "      <th>pclass</th>\n",
       "      <th>name</th>\n",
       "      <th>sex</th>\n",
       "      <th>age</th>\n",
       "      <th>sibsp</th>\n",
       "      <th>parch</th>\n",
       "      <th>ticket</th>\n",
       "      <th>fare</th>\n",
       "      <th>cabin</th>\n",
       "      <th>embarked</th>\n",
       "      <th>home.dest</th>\n",
       "    </tr>\n",
       "  </thead>\n",
       "  <tbody>\n",
       "    <tr>\n",
       "      <th>0</th>\n",
       "      <td>0</td>\n",
       "      <td>0</td>\n",
       "      <td>3</td>\n",
       "      <td>346</td>\n",
       "      <td>1</td>\n",
       "      <td>11.0</td>\n",
       "      <td>5</td>\n",
       "      <td>2</td>\n",
       "      <td>617</td>\n",
       "      <td>46.9000</td>\n",
       "      <td>-1</td>\n",
       "      <td>2</td>\n",
       "      <td>304</td>\n",
       "    </tr>\n",
       "    <tr>\n",
       "      <th>1</th>\n",
       "      <td>1</td>\n",
       "      <td>0</td>\n",
       "      <td>3</td>\n",
       "      <td>448</td>\n",
       "      <td>1</td>\n",
       "      <td>NaN</td>\n",
       "      <td>0</td>\n",
       "      <td>0</td>\n",
       "      <td>698</td>\n",
       "      <td>7.0500</td>\n",
       "      <td>-1</td>\n",
       "      <td>2</td>\n",
       "      <td>-1</td>\n",
       "    </tr>\n",
       "    <tr>\n",
       "      <th>2</th>\n",
       "      <td>2</td>\n",
       "      <td>0</td>\n",
       "      <td>3</td>\n",
       "      <td>836</td>\n",
       "      <td>1</td>\n",
       "      <td>4.0</td>\n",
       "      <td>3</td>\n",
       "      <td>2</td>\n",
       "      <td>378</td>\n",
       "      <td>27.9000</td>\n",
       "      <td>-1</td>\n",
       "      <td>2</td>\n",
       "      <td>-1</td>\n",
       "    </tr>\n",
       "    <tr>\n",
       "      <th>3</th>\n",
       "      <td>3</td>\n",
       "      <td>1</td>\n",
       "      <td>3</td>\n",
       "      <td>668</td>\n",
       "      <td>0</td>\n",
       "      <td>NaN</td>\n",
       "      <td>1</td>\n",
       "      <td>0</td>\n",
       "      <td>506</td>\n",
       "      <td>15.5000</td>\n",
       "      <td>-1</td>\n",
       "      <td>1</td>\n",
       "      <td>-1</td>\n",
       "    </tr>\n",
       "    <tr>\n",
       "      <th>4</th>\n",
       "      <td>4</td>\n",
       "      <td>1</td>\n",
       "      <td>3</td>\n",
       "      <td>6</td>\n",
       "      <td>0</td>\n",
       "      <td>18.0</td>\n",
       "      <td>0</td>\n",
       "      <td>0</td>\n",
       "      <td>207</td>\n",
       "      <td>7.2292</td>\n",
       "      <td>-1</td>\n",
       "      <td>0</td>\n",
       "      <td>114</td>\n",
       "    </tr>\n",
       "  </tbody>\n",
       "</table>\n",
       "</div>"
      ],
      "text/plain": [
       "   ID  survived  pclass  name  sex   age  sibsp  parch  ticket     fare  \\\n",
       "0   0         0       3   346    1  11.0      5      2     617  46.9000   \n",
       "1   1         0       3   448    1   NaN      0      0     698   7.0500   \n",
       "2   2         0       3   836    1   4.0      3      2     378  27.9000   \n",
       "3   3         1       3   668    0   NaN      1      0     506  15.5000   \n",
       "4   4         1       3     6    0  18.0      0      0     207   7.2292   \n",
       "\n",
       "   cabin  embarked  home.dest  \n",
       "0     -1         2        304  \n",
       "1     -1         2         -1  \n",
       "2     -1         2         -1  \n",
       "3     -1         1         -1  \n",
       "4     -1         0        114  "
      ]
     },
     "execution_count": 438,
     "metadata": {},
     "output_type": "execute_result"
    }
   ],
   "source": [
    "df.head()"
   ]
  },
  {
   "cell_type": "code",
   "execution_count": 439,
   "id": "cd244808",
   "metadata": {},
   "outputs": [
    {
     "data": {
      "text/plain": [
       "ID             0\n",
       "survived       0\n",
       "pclass         0\n",
       "name           0\n",
       "sex            0\n",
       "age          198\n",
       "sibsp          0\n",
       "parch          0\n",
       "ticket         0\n",
       "fare           1\n",
       "cabin          0\n",
       "embarked       0\n",
       "home.dest      0\n",
       "dtype: int64"
      ]
     },
     "execution_count": 439,
     "metadata": {},
     "output_type": "execute_result"
    }
   ],
   "source": [
    "df.isnull().sum()"
   ]
  },
  {
   "cell_type": "code",
   "execution_count": 440,
   "id": "aaa64d7f",
   "metadata": {},
   "outputs": [],
   "source": [
    "# replacing NaN with -1\n",
    "df['age'].replace(np.nan, \"-1\", inplace=True)"
   ]
  },
  {
   "cell_type": "code",
   "execution_count": 441,
   "id": "5e1f1f80",
   "metadata": {},
   "outputs": [],
   "source": [
    "df['fare'].replace(np.nan, \"-1\", inplace=True)"
   ]
  },
  {
   "cell_type": "markdown",
   "id": "565abcfc",
   "metadata": {},
   "source": [
    "## Decision Tree"
   ]
  },
  {
   "cell_type": "code",
   "execution_count": 442,
   "id": "b22157cf",
   "metadata": {},
   "outputs": [],
   "source": [
    "# Decision Tree Classifiers is well suited to solve this problem because we need to predict a variable that is categorical (0/1), which is what this type of model does."
   ]
  },
  {
   "cell_type": "markdown",
   "id": "b51db53a",
   "metadata": {},
   "source": [
    "### Preparing training, testing and validation sets for decision tree"
   ]
  },
  {
   "cell_type": "code",
   "execution_count": 443,
   "id": "c41adbf6",
   "metadata": {},
   "outputs": [],
   "source": [
    "xdf = df.drop(\"survived\", axis = 1) #creating data on the basis of which we will predict the value of the variable\n",
    "ydf = df.survived #creating the variable we want to predict"
   ]
  },
  {
   "cell_type": "code",
   "execution_count": 444,
   "id": "58eed4e5",
   "metadata": {},
   "outputs": [
    {
     "data": {
      "text/plain": [
       "(600, 12)"
      ]
     },
     "metadata": {},
     "output_type": "display_data"
    },
    {
     "data": {
      "text/plain": [
       "(600,)"
      ]
     },
     "metadata": {},
     "output_type": "display_data"
    },
    {
     "data": {
      "text/plain": [
       "(400, 12)"
      ]
     },
     "metadata": {},
     "output_type": "display_data"
    },
    {
     "data": {
      "text/plain": [
       "(400,)"
      ]
     },
     "metadata": {},
     "output_type": "display_data"
    }
   ],
   "source": [
    "rd_seed = 245\n",
    "#randomly splitting data to testing data and traning data 60/40\n",
    "xtrain, xtest, ytrain, ytest = train_test_split(xdf, ydf, test_size=0.4, random_state=rd_seed) \n",
    "display(xtrain.shape)\n",
    "display(ytrain.shape)\n",
    "display(xtest.shape)\n",
    "display(ytest.shape)"
   ]
  },
  {
   "cell_type": "code",
   "execution_count": 445,
   "id": "7389d441",
   "metadata": {
    "scrolled": true
   },
   "outputs": [
    {
     "data": {
      "text/plain": [
       "(200, 12)"
      ]
     },
     "metadata": {},
     "output_type": "display_data"
    },
    {
     "data": {
      "text/plain": [
       "(200,)"
      ]
     },
     "metadata": {},
     "output_type": "display_data"
    },
    {
     "data": {
      "text/plain": [
       "(200, 12)"
      ]
     },
     "metadata": {},
     "output_type": "display_data"
    },
    {
     "data": {
      "text/plain": [
       "(200,)"
      ]
     },
     "metadata": {},
     "output_type": "display_data"
    }
   ],
   "source": [
    "# splitting testing data to tasting and validating 40 to 50/50 \n",
    "xval, xtest, yval, ytest = train_test_split(xtest, ytest, test_size=0.5, random_state=rd_seed) \n",
    "display(xval.shape)\n",
    "display(yval.shape)\n",
    "display(xtest.shape)\n",
    "display(ytest.shape)"
   ]
  },
  {
   "cell_type": "markdown",
   "id": "a90a4741",
   "metadata": {},
   "source": [
    "### Training model"
   ]
  },
  {
   "cell_type": "code",
   "execution_count": 446,
   "id": "150022fd",
   "metadata": {},
   "outputs": [
    {
     "data": {
      "text/plain": [
       "{'ccp_alpha': 0.0,\n",
       " 'class_weight': None,\n",
       " 'criterion': 'gini',\n",
       " 'max_depth': 50,\n",
       " 'max_features': None,\n",
       " 'max_leaf_nodes': None,\n",
       " 'min_impurity_decrease': 0.0,\n",
       " 'min_samples_leaf': 1,\n",
       " 'min_samples_split': 2,\n",
       " 'min_weight_fraction_leaf': 0.0,\n",
       " 'random_state': None,\n",
       " 'splitter': 'best'}"
      ]
     },
     "execution_count": 446,
     "metadata": {},
     "output_type": "execute_result"
    }
   ],
   "source": [
    "clf = DecisionTreeClassifier(max_depth=50)\n",
    "clf.get_params() \n",
    "#making a classifier for training"
   ]
  },
  {
   "cell_type": "code",
   "execution_count": 447,
   "id": "d031f269",
   "metadata": {},
   "outputs": [
    {
     "data": {
      "text/html": [
       "<style>#sk-container-id-7 {color: black;}#sk-container-id-7 pre{padding: 0;}#sk-container-id-7 div.sk-toggleable {background-color: white;}#sk-container-id-7 label.sk-toggleable__label {cursor: pointer;display: block;width: 100%;margin-bottom: 0;padding: 0.3em;box-sizing: border-box;text-align: center;}#sk-container-id-7 label.sk-toggleable__label-arrow:before {content: \"▸\";float: left;margin-right: 0.25em;color: #696969;}#sk-container-id-7 label.sk-toggleable__label-arrow:hover:before {color: black;}#sk-container-id-7 div.sk-estimator:hover label.sk-toggleable__label-arrow:before {color: black;}#sk-container-id-7 div.sk-toggleable__content {max-height: 0;max-width: 0;overflow: hidden;text-align: left;background-color: #f0f8ff;}#sk-container-id-7 div.sk-toggleable__content pre {margin: 0.2em;color: black;border-radius: 0.25em;background-color: #f0f8ff;}#sk-container-id-7 input.sk-toggleable__control:checked~div.sk-toggleable__content {max-height: 200px;max-width: 100%;overflow: auto;}#sk-container-id-7 input.sk-toggleable__control:checked~label.sk-toggleable__label-arrow:before {content: \"▾\";}#sk-container-id-7 div.sk-estimator input.sk-toggleable__control:checked~label.sk-toggleable__label {background-color: #d4ebff;}#sk-container-id-7 div.sk-label input.sk-toggleable__control:checked~label.sk-toggleable__label {background-color: #d4ebff;}#sk-container-id-7 input.sk-hidden--visually {border: 0;clip: rect(1px 1px 1px 1px);clip: rect(1px, 1px, 1px, 1px);height: 1px;margin: -1px;overflow: hidden;padding: 0;position: absolute;width: 1px;}#sk-container-id-7 div.sk-estimator {font-family: monospace;background-color: #f0f8ff;border: 1px dotted black;border-radius: 0.25em;box-sizing: border-box;margin-bottom: 0.5em;}#sk-container-id-7 div.sk-estimator:hover {background-color: #d4ebff;}#sk-container-id-7 div.sk-parallel-item::after {content: \"\";width: 100%;border-bottom: 1px solid gray;flex-grow: 1;}#sk-container-id-7 div.sk-label:hover label.sk-toggleable__label {background-color: #d4ebff;}#sk-container-id-7 div.sk-serial::before {content: \"\";position: absolute;border-left: 1px solid gray;box-sizing: border-box;top: 0;bottom: 0;left: 50%;z-index: 0;}#sk-container-id-7 div.sk-serial {display: flex;flex-direction: column;align-items: center;background-color: white;padding-right: 0.2em;padding-left: 0.2em;position: relative;}#sk-container-id-7 div.sk-item {position: relative;z-index: 1;}#sk-container-id-7 div.sk-parallel {display: flex;align-items: stretch;justify-content: center;background-color: white;position: relative;}#sk-container-id-7 div.sk-item::before, #sk-container-id-7 div.sk-parallel-item::before {content: \"\";position: absolute;border-left: 1px solid gray;box-sizing: border-box;top: 0;bottom: 0;left: 50%;z-index: -1;}#sk-container-id-7 div.sk-parallel-item {display: flex;flex-direction: column;z-index: 1;position: relative;background-color: white;}#sk-container-id-7 div.sk-parallel-item:first-child::after {align-self: flex-end;width: 50%;}#sk-container-id-7 div.sk-parallel-item:last-child::after {align-self: flex-start;width: 50%;}#sk-container-id-7 div.sk-parallel-item:only-child::after {width: 0;}#sk-container-id-7 div.sk-dashed-wrapped {border: 1px dashed gray;margin: 0 0.4em 0.5em 0.4em;box-sizing: border-box;padding-bottom: 0.4em;background-color: white;}#sk-container-id-7 div.sk-label label {font-family: monospace;font-weight: bold;display: inline-block;line-height: 1.2em;}#sk-container-id-7 div.sk-label-container {text-align: center;}#sk-container-id-7 div.sk-container {/* jupyter's `normalize.less` sets `[hidden] { display: none; }` but bootstrap.min.css set `[hidden] { display: none !important; }` so we also need the `!important` here to be able to override the default hidden behavior on the sphinx rendered scikit-learn.org. See: https://github.com/scikit-learn/scikit-learn/issues/21755 */display: inline-block !important;position: relative;}#sk-container-id-7 div.sk-text-repr-fallback {display: none;}</style><div id=\"sk-container-id-7\" class=\"sk-top-container\"><div class=\"sk-text-repr-fallback\"><pre>DecisionTreeClassifier(max_depth=50)</pre><b>In a Jupyter environment, please rerun this cell to show the HTML representation or trust the notebook. <br />On GitHub, the HTML representation is unable to render, please try loading this page with nbviewer.org.</b></div><div class=\"sk-container\" hidden><div class=\"sk-item\"><div class=\"sk-estimator sk-toggleable\"><input class=\"sk-toggleable__control sk-hidden--visually\" id=\"sk-estimator-id-7\" type=\"checkbox\" checked><label for=\"sk-estimator-id-7\" class=\"sk-toggleable__label sk-toggleable__label-arrow\">DecisionTreeClassifier</label><div class=\"sk-toggleable__content\"><pre>DecisionTreeClassifier(max_depth=50)</pre></div></div></div></div></div>"
      ],
      "text/plain": [
       "DecisionTreeClassifier(max_depth=50)"
      ]
     },
     "execution_count": 447,
     "metadata": {},
     "output_type": "execute_result"
    }
   ],
   "source": [
    "clf.fit(xtrain, ytrain) #the model is training on training data"
   ]
  },
  {
   "cell_type": "code",
   "execution_count": 448,
   "id": "46773b07",
   "metadata": {},
   "outputs": [],
   "source": [
    "ypredicted = clf.predict(xtrain) #predicting labels for training data using the trained classifier."
   ]
  },
  {
   "cell_type": "code",
   "execution_count": 449,
   "id": "80318871",
   "metadata": {},
   "outputs": [
    {
     "data": {
      "text/plain": [
       "0    1.0\n",
       "Name: survived, dtype: float64"
      ]
     },
     "execution_count": 449,
     "metadata": {},
     "output_type": "execute_result"
    }
   ],
   "source": [
    "(ytrain - ypredicted).value_counts(normalize=True) #counts relative differences between actual and predicted training labels."
   ]
  },
  {
   "cell_type": "code",
   "execution_count": 450,
   "id": "851de6a2",
   "metadata": {},
   "outputs": [
    {
     "name": "stdout",
     "output_type": "stream",
     "text": [
      "accuracy score (train): 1.000000\n"
     ]
    }
   ],
   "source": [
    "#accuracy for training data\n",
    "print('accuracy score (train): {0:.6f}'.format(metrics.accuracy_score(ytrain, clf.predict(xtrain))))"
   ]
  },
  {
   "cell_type": "code",
   "execution_count": 451,
   "id": "00c11420",
   "metadata": {},
   "outputs": [
    {
     "name": "stdout",
     "output_type": "stream",
     "text": [
      "accuracy score (test): 0.735000\n"
     ]
    }
   ],
   "source": [
    "#accuracy for validation data\n",
    "print('accuracy score (test): {0:.6f}'.format(metrics.accuracy_score(yval, clf.predict(xval))))"
   ]
  },
  {
   "cell_type": "markdown",
   "id": "841b4770",
   "metadata": {},
   "source": [
    "### Hyperparameter setting"
   ]
  },
  {
   "cell_type": "code",
   "execution_count": 452,
   "id": "08c702c6",
   "metadata": {},
   "outputs": [],
   "source": [
    "#code from lectures with comments\n",
    "\n",
    "param_grid = {\n",
    "    'max_depth': range(1,30), \n",
    "    'criterion': ['entropy', 'gini']\n",
    "} #parametrs and their variations\n",
    "param_comb = ParameterGrid(param_grid) #creates all combinations of parameters from a given parameter grid\n",
    "\n",
    "val_acc = []\n",
    "train_acc = []\n",
    "for params in param_comb:\n",
    "    clf = DecisionTreeClassifier(max_depth=params['max_depth'], criterion=params['criterion']) #iterates over parameter combinations\n",
    "    clf.fit(xtrain, ytrain)\n",
    "    train_acc.append(metrics.accuracy_score(ytrain, clf.predict(xtrain))) #compares the predictions with the data and adds the accuracy (proportion of correct predictions) to the list.\n",
    "    val_acc.append(metrics.accuracy_score(yval, clf.predict(xval)))#same as train_acc\n"
   ]
  },
  {
   "cell_type": "code",
   "execution_count": 453,
   "id": "8ba0e4a6",
   "metadata": {},
   "outputs": [
    {
     "data": {
      "text/plain": [
       "<matplotlib.legend.Legend at 0x189ea225ad0>"
      ]
     },
     "execution_count": 453,
     "metadata": {},
     "output_type": "execute_result"
    },
    {
     "data": {
      "image/png": "[encoded data removed]",
      "text/plain": [
       "<Figure size 1800x600 with 1 Axes>"
      ]
     },
     "metadata": {},
     "output_type": "display_data"
    }
   ],
   "source": [
    "plt.figure(figsize=(18,6))\n",
    "plt.plot(train_acc,'or-')\n",
    "plt.plot(val_acc,'ob-')\n",
    "plt.xlabel('hyperparametr index')\n",
    "plt.ylabel('accuracy')\n",
    "plt.legend(['train', 'validation'])"
   ]
  },
  {
   "cell_type": "code",
   "execution_count": 454,
   "id": "869a1085",
   "metadata": {},
   "outputs": [
    {
     "data": {
      "text/plain": [
       "{'max_depth': 1, 'criterion': 'entropy'}"
      ]
     },
     "execution_count": 454,
     "metadata": {},
     "output_type": "execute_result"
    }
   ],
   "source": [
    "# choosing the best combination of parametrs, meaning returns index of the best working combination(with highest accuracy)\n",
    "best_params = param_comb[np.argmax(val_acc)] \n",
    "best_params"
   ]
  },
  {
   "cell_type": "code",
   "execution_count": 455,
   "id": "a4bb72dd",
   "metadata": {},
   "outputs": [
    {
     "name": "stdout",
     "output_type": "stream",
     "text": [
      "accuracy score (train): 0.766667\n",
      "accuracy score (validation): 0.800000\n"
     ]
    }
   ],
   "source": [
    "clf = DecisionTreeClassifier(**best_params) #unpacking dictionary and putting info into DecisionTreeClassifier \n",
    "clf.fit(xtrain, ytrain)\n",
    "print('accuracy score (train): {0:.6f}'.format(metrics.accuracy_score(ytrain, clf.predict(xtrain))))\n",
    "print('accuracy score (validation): {0:.6f}'.format(metrics.accuracy_score(yval, clf.predict(xval))))\n"
   ]
  },
  {
   "cell_type": "markdown",
   "id": "7bc82047",
   "metadata": {},
   "source": [
    "### F1 score, the ROC curve and the AUC."
   ]
  },
  {
   "cell_type": "code",
   "execution_count": 456,
   "id": "957f069a",
   "metadata": {},
   "outputs": [
    {
     "name": "stdout",
     "output_type": "stream",
     "text": [
      "F1 Score: 0.7435897435897436\n"
     ]
    }
   ],
   "source": [
    "ypred = clf.predict(xval) #predict labels for val data\n",
    "f1_score = metrics.f1_score(yval, ypred)\n",
    "print(f\"F1 Score: {f1_score}\")\n",
    "#F1 score is a measure of a model's accuracy, combining precision and recall"
   ]
  },
  {
   "cell_type": "code",
   "execution_count": 457,
   "id": "af9993aa",
   "metadata": {
    "scrolled": true
   },
   "outputs": [
    {
     "name": "stdout",
     "output_type": "stream",
     "text": [
      "[0.2        0.2        0.70697674 0.2        0.2        0.2\n",
      " 0.70697674 0.2        0.2        0.2        0.70697674 0.70697674\n",
      " 0.2        0.2        0.70697674 0.2        0.2        0.2\n",
      " 0.2        0.2        0.2        0.2        0.2        0.70697674\n",
      " 0.70697674 0.2        0.2        0.2        0.2        0.2\n",
      " 0.2        0.2        0.70697674 0.2        0.70697674 0.70697674\n",
      " 0.70697674 0.2        0.2        0.70697674 0.2        0.2\n",
      " 0.2        0.2        0.2        0.70697674 0.2        0.2\n",
      " 0.70697674 0.70697674 0.2        0.2        0.70697674 0.2\n",
      " 0.70697674 0.2        0.70697674 0.70697674 0.70697674 0.2\n",
      " 0.2        0.2        0.70697674 0.2        0.2        0.2\n",
      " 0.70697674 0.2        0.2        0.70697674 0.70697674 0.2\n",
      " 0.70697674 0.70697674 0.2        0.2        0.2        0.70697674\n",
      " 0.2        0.2        0.2        0.70697674 0.70697674 0.2\n",
      " 0.70697674 0.2        0.2        0.70697674 0.2        0.2\n",
      " 0.70697674 0.2        0.70697674 0.2        0.2        0.2\n",
      " 0.70697674 0.2        0.2        0.2        0.2        0.70697674\n",
      " 0.70697674 0.70697674 0.70697674 0.2        0.70697674 0.70697674\n",
      " 0.2        0.2        0.2        0.70697674 0.2        0.2\n",
      " 0.70697674 0.70697674 0.2        0.2        0.70697674 0.2\n",
      " 0.70697674 0.2        0.70697674 0.2        0.2        0.2\n",
      " 0.2        0.2        0.2        0.70697674 0.2        0.2\n",
      " 0.2        0.70697674 0.70697674 0.70697674 0.70697674 0.2\n",
      " 0.2        0.70697674 0.2        0.2        0.70697674 0.2\n",
      " 0.70697674 0.2        0.2        0.2        0.70697674 0.2\n",
      " 0.2        0.70697674 0.2        0.2        0.2        0.70697674\n",
      " 0.2        0.2        0.2        0.2        0.2        0.70697674\n",
      " 0.2        0.2        0.70697674 0.70697674 0.2        0.70697674\n",
      " 0.70697674 0.70697674 0.2        0.2        0.70697674 0.2\n",
      " 0.70697674 0.2        0.2        0.2        0.70697674 0.2\n",
      " 0.2        0.2        0.2        0.2        0.70697674 0.2\n",
      " 0.2        0.70697674 0.2        0.2        0.2        0.70697674\n",
      " 0.2        0.2        0.2        0.2        0.70697674 0.2\n",
      " 0.70697674 0.70697674]\n"
     ]
    }
   ],
   "source": [
    "y_predict_proba = clf.predict_proba(xval)[:,1] #class 1 probabilities\n",
    "print(y_predict_proba)"
   ]
  },
  {
   "cell_type": "code",
   "execution_count": 458,
   "id": "112a4d8a",
   "metadata": {},
   "outputs": [],
   "source": [
    "fpr, tpr, thresholds = metrics.roc_curve(yval, y_predict_proba)# fpr contains fals positive results, tpr - true positive, thresholdas - thresholds values \n",
    "auc = metrics.roc_auc_score(yval, y_predict_proba)#calculating the area under the receiver performance curve"
   ]
  },
  {
   "cell_type": "code",
   "execution_count": 459,
   "id": "92806550",
   "metadata": {
    "scrolled": true
   },
   "outputs": [
    {
     "data": {
      "image/png": "[encoded data removed]",
      "text/plain": [
       "<Figure size 640x480 with 1 Axes>"
      ]
     },
     "metadata": {},
     "output_type": "display_data"
    }
   ],
   "source": [
    "plt.figure() #shows the relationship between the proportion of True Positive Rate (TPR) and the proportion of False Positive Rate (FPR) at all possible thresholds.\n",
    "plt.plot(fpr, tpr, color=\"darkorange\", lw=2, label = f\"ROC curve (area = {auc:.2f})\")\n",
    "plt.plot([0, 1], [0, 1], color=\"navy\", lw=2, linestyle=\"--\")\n",
    "plt.xlim([0.0, 1.0])\n",
    "plt.ylim([0.0, 1.05])\n",
    "plt.xlabel(\"False Positive Rate\")\n",
    "plt.ylabel(\"True Positive Rate\")\n",
    "plt.title(\"Receiver operating characteristic\")\n",
    "plt.legend(loc=\"lower right\")\n",
    "plt.show()"
   ]
  },
  {
   "cell_type": "markdown",
   "id": "d894bace",
   "metadata": {},
   "source": [
    "## K-nearest neighbors"
   ]
  },
  {
   "cell_type": "code",
   "execution_count": 460,
   "id": "f5587e48",
   "metadata": {},
   "outputs": [],
   "source": [
    "#This type of model is suitable for this assignment because we do not have a large dataset and we have non-lenient relationships between catigories, but we have many attributes and the Knn is sensitive to scaling."
   ]
  },
  {
   "cell_type": "code",
   "execution_count": 461,
   "id": "83239774",
   "metadata": {},
   "outputs": [
    {
     "name": "stdout",
     "output_type": "stream",
     "text": [
      "Validation accuracy: 0.6300\n"
     ]
    }
   ],
   "source": [
    "#Creating and training a knn model\n",
    "knn = KNeighborsClassifier(n_neighbors = 11)\n",
    "knn.fit(xtrain, ytrain)\n",
    "print(f\"Validation accuracy: {metrics.accuracy_score(yval, knn.predict(xval)):0.4f}\")"
   ]
  },
  {
   "cell_type": "markdown",
   "id": "ee59ef81",
   "metadata": {},
   "source": [
    "### Normalization"
   ]
  },
  {
   "cell_type": "code",
   "execution_count": 462,
   "id": "9890d0fa",
   "metadata": {},
   "outputs": [
    {
     "name": "stdout",
     "output_type": "stream",
     "text": [
      "Validation accuracy of normalized model: 0.8050\n"
     ]
    }
   ],
   "source": [
    "#Creating and training a knn model with min-max normilized data\n",
    "scaler = MinMaxScaler()\n",
    "xtrain_scaled = scaler.fit_transform(xtrain)\n",
    "xval_scaled = scaler.transform(xval)\n",
    "knn = KNeighborsClassifier(n_neighbors = 11)\n",
    "knn.fit(xtrain_scaled, ytrain)\n",
    "\n",
    "print(f\"Validation accuracy of normalized model: {knn.score(xval_scaled, yval):0.4f}\")"
   ]
  },
  {
   "cell_type": "code",
   "execution_count": 463,
   "id": "456dfe4f",
   "metadata": {},
   "outputs": [],
   "source": [
    "# from sklearn.preprocessing import StandardScaler"
   ]
  },
  {
   "cell_type": "code",
   "execution_count": 464,
   "id": "bc50ea99",
   "metadata": {},
   "outputs": [],
   "source": [
    "#Creating and training a knn model with standardisated data\n",
    "#We can see that this type of normalization is less productive (0.7500)\n",
    "# scaler = StandardScaler()\n",
    "# xtrain_scaled = scaler.fit_transform(xtrain)\n",
    "# xval_scaled = scaler.transform(xval)\n",
    "# knn = KNeighborsClassifier(n_neighbors = 11)\n",
    "# knn.fit(xtrain_scaled, ytrain)\n",
    "# print(f\"Validation accuracy of normalized model: {knn.score(xval_scaled, yval):0.4f}\")"
   ]
  },
  {
   "cell_type": "code",
   "execution_count": 465,
   "id": "b92bf8f6",
   "metadata": {},
   "outputs": [],
   "source": [
    "val_acc = []\n",
    "train_acc = []\n",
    "kneighbors = range(3,17)\n",
    "for k in kneighbors:\n",
    "    knn = KNeighborsClassifier(n_neighbors = k) # Iterate over each value of 'k' and create knn with the value\n",
    "    knn.fit(xtrain_scaled, ytrain)\n",
    "    val_acc.append(knn.score(xval_scaled, yval)) # Evaluate the classifier on the scaled validation data and append the score to the val_acc list\n",
    "    train_acc.append(knn.score(xtrain_scaled, ytrain)) #same as val"
   ]
  },
  {
   "cell_type": "code",
   "execution_count": 466,
   "id": "14e459fa",
   "metadata": {
    "scrolled": true
   },
   "outputs": [
    {
     "data": {
      "text/plain": [
       "<matplotlib.legend.Legend at 0x189ea14e050>"
      ]
     },
     "execution_count": 466,
     "metadata": {},
     "output_type": "execute_result"
    },
    {
     "data": {
      "image/png": "[encoded data removed]",
      "text/plain": [
       "<Figure size 1800x600 with 1 Axes>"
      ]
     },
     "metadata": {},
     "output_type": "display_data"
    }
   ],
   "source": [
    "\n",
    "\n",
    "plt.figure(figsize=(18,6))\n",
    "plt.plot(kneighbors, train_acc,'or-') \n",
    "plt.plot(kneighbors, val_acc,'ob-')\n",
    "plt.xlabel('max_depth')\n",
    "plt.ylabel('accuracy')\n",
    "plt.legend(['train', 'validation'])"
   ]
  },
  {
   "cell_type": "code",
   "execution_count": 467,
   "id": "77d05c18",
   "metadata": {},
   "outputs": [],
   "source": [
    "# best parametrs that we have here are not actually best,\n",
    "#best n_neighbors is 11, we can see it from the graph, then accuracy is 0.8050\n",
    "\n",
    "# from sklearn.model_selection import cross_val_score\n",
    "# param_grid = {\n",
    "#     'n_neighbors': range(1, 15)\n",
    "# }\n",
    "\n",
    "# param_comb = ParameterGrid(param_grid)\n",
    "\n",
    "# val_metric = []\n",
    "# for params in param_comb:\n",
    "#     knn = KNeighborsClassifier(**params)\n",
    "#     # cross validation\n",
    "#     fold_acc = cross_val_score(knn, xtrain, ytrain, cv=5)\n",
    "#     val_metric.append(np.mean(fold_acc))\n",
    "    \n",
    "# best_knn_params = param_comb[np.argmax(val_metric)]\n",
    "# best_knn_metric = max(val_metric)\n",
    "# print(f\"Našli jsme nejlepší hyperparametry {best_knn_params} s kross validační přesností {best_knn_metric:.4f}.\")\n",
    "\n",
    "\n"
   ]
  },
  {
   "cell_type": "code",
   "execution_count": 468,
   "id": "5f09b10c",
   "metadata": {},
   "outputs": [],
   "source": [
    "# best_knn = KNeighborsClassifier(**best_knn_params)\n",
    "# best_knn.fit(xtrain, ytrain)\n",
    "# val_accuracy = best_knn.score(xval, yval)\n",
    "# print(f\"Accuracy: {val_accuracy:.4f}\")"
   ]
  },
  {
   "cell_type": "markdown",
   "id": "062f77a3",
   "metadata": {},
   "source": [
    "### F1 score, the ROC curve and the AUC."
   ]
  },
  {
   "cell_type": "code",
   "execution_count": 469,
   "id": "d8592aec",
   "metadata": {},
   "outputs": [
    {
     "name": "stdout",
     "output_type": "stream",
     "text": [
      "F1 Score: 0.7092198581560283\n"
     ]
    }
   ],
   "source": [
    "ypred = knn.predict(xval_scaled ) #predict labels for val data\n",
    "f1_score = metrics.f1_score(yval, ypred)\n",
    "print(f\"F1 Score: {f1_score}\")"
   ]
  },
  {
   "cell_type": "code",
   "execution_count": 470,
   "id": "12f504d3",
   "metadata": {},
   "outputs": [
    {
     "name": "stdout",
     "output_type": "stream",
     "text": [
      "[0.5    0.0625 0.75   0.0625 0.125  0.125  0.5625 0.1875 0.     0.0625\n",
      " 0.4375 0.1875 0.125  0.0625 0.875  0.1875 0.0625 0.1875 0.     0.1875\n",
      " 0.25   0.0625 0.25   0.3125 0.5    0.25   0.0625 0.125  0.5    0.375\n",
      " 0.25   0.125  0.875  0.1875 0.8125 0.8125 0.75   0.25   0.     0.875\n",
      " 0.3125 0.125  0.0625 0.3125 0.0625 0.4375 0.     0.375  1.     0.9375\n",
      " 0.125  0.125  0.9375 0.5625 0.9375 0.0625 0.5    0.5    0.9375 0.25\n",
      " 0.25   0.375  0.375  0.25   0.0625 0.4375 1.     0.25   0.125  1.\n",
      " 0.6875 0.25   1.     0.8125 0.5    0.25   0.     0.3125 0.     0.3125\n",
      " 0.0625 0.375  0.75   0.125  0.375  0.3125 0.125  0.4375 0.4375 0.25\n",
      " 0.8125 0.125  0.9375 0.3125 0.     0.125  1.     0.     0.     0.0625\n",
      " 0.125  0.9375 0.5    0.625  1.     0.3125 0.75   0.375  0.25   0.\n",
      " 0.5    1.     0.0625 0.375  1.     1.     0.     0.4375 0.6875 0.1875\n",
      " 1.     0.4375 0.3125 0.25   0.125  0.1875 0.125  0.0625 0.25   0.8125\n",
      " 0.125  0.3125 0.0625 0.8125 0.625  0.6875 1.     0.1875 0.1875 0.8125\n",
      " 0.1875 0.125  0.9375 0.125  0.9375 0.4375 0.25   0.375  1.     0.25\n",
      " 0.     0.8125 0.1875 0.25   0.125  1.     0.1875 0.3125 0.25   0.125\n",
      " 0.25   0.8125 0.1875 0.0625 0.3125 0.6875 0.     0.5625 1.     0.5625\n",
      " 0.0625 0.     0.8125 0.1875 0.5625 0.     0.5625 0.     0.875  0.25\n",
      " 0.125  0.0625 0.125  0.     0.9375 0.1875 0.25   0.5    0.1875 0.1875\n",
      " 0.125  0.875  0.0625 0.1875 0.     0.25   1.     0.125  0.75   0.75  ]\n"
     ]
    }
   ],
   "source": [
    "y_predict_proba = knn.predict_proba(xval_scaled)[:,1] #class 1 probabilities\n",
    "print(y_predict_proba)"
   ]
  },
  {
   "cell_type": "code",
   "execution_count": 471,
   "id": "4dd89726",
   "metadata": {},
   "outputs": [],
   "source": [
    "fpr, tpr, thresholds = metrics.roc_curve(yval, y_predict_proba)# fpr contains fals positive results, tpr - true positive, thresholdas - thresholds values \n",
    "auc = metrics.roc_auc_score(yval, y_predict_proba)#calculating the area under the receiver performance curve"
   ]
  },
  {
   "cell_type": "code",
   "execution_count": 472,
   "id": "86665634",
   "metadata": {},
   "outputs": [
    {
     "data": {
      "image/png": "[encoded data removed]",
      "text/plain": [
       "<Figure size 640x480 with 1 Axes>"
      ]
     },
     "metadata": {},
     "output_type": "display_data"
    }
   ],
   "source": [
    "plt.figure() #shows the relationship between the proportion of True Positive Rate (TPR) and the proportion of False Positive Rate (FPR) at all possible thresholds.\n",
    "plt.plot(fpr, tpr, color=\"darkorange\", lw=2, label = f\"ROC curve (area = {auc:.2f})\")\n",
    "plt.plot([0, 1], [0, 1], color=\"navy\", lw=2, linestyle=\"--\")\n",
    "plt.xlim([0.0, 1.0])\n",
    "plt.ylim([0.0, 1.05])\n",
    "plt.xlabel(\"False Positive Rate\")\n",
    "plt.ylabel(\"True Positive Rate\")\n",
    "plt.title(\"Receiver operating characteristic\")\n",
    "plt.legend(loc=\"lower right\")\n",
    "plt.show()"
   ]
  },
  {
   "cell_type": "markdown",
   "id": "3682dce2",
   "metadata": {},
   "source": [
    "For first model we have F1 = 0.74, auc = 0.78 ; for the second one F1 =0.71, auc = 0.84, also roc curve for seckond model is more convinient, so because of much higher auc and better roc curve i will choose the second model as final."
   ]
  },
  {
   "cell_type": "markdown",
   "id": "0f86deb5",
   "metadata": {},
   "source": [
    "### Checking with test data"
   ]
  },
  {
   "cell_type": "code",
   "execution_count": 473,
   "id": "e3b2ee37",
   "metadata": {},
   "outputs": [
    {
     "name": "stdout",
     "output_type": "stream",
     "text": [
      "Validation accuracy of normalized model(val): 0.8050\n",
      "Validation accuracy of normalized model(test): 0.8000\n"
     ]
    }
   ],
   "source": [
    "knn = KNeighborsClassifier(n_neighbors = 11)\n",
    "knn.fit(xtrain_scaled, ytrain)\n",
    "xtest_scaled = scaler.transform(xtest)\n",
    "\n",
    "print(f\"Validation accuracy of normalized model(val): {knn.score(xval_scaled, yval):0.4f}\")\n",
    "print(f\"Validation accuracy of normalized model(test): {knn.score(xtest_scaled, ytest):0.4f}\")"
   ]
  },
  {
   "cell_type": "code",
   "execution_count": 474,
   "id": "cb8dfafb",
   "metadata": {
    "scrolled": true
   },
   "outputs": [
    {
     "name": "stdout",
     "output_type": "stream",
     "text": [
      "Accuracy: 0.8\n",
      "              precision    recall  f1-score   support\n",
      "\n",
      "           0       0.80      0.88      0.83       115\n",
      "           1       0.81      0.69      0.75        85\n",
      "\n",
      "    accuracy                           0.80       200\n",
      "   macro avg       0.80      0.79      0.79       200\n",
      "weighted avg       0.80      0.80      0.80       200\n",
      "\n",
      "[[101  14]\n",
      " [ 26  59]]\n"
     ]
    }
   ],
   "source": [
    "xtest_scaled = scaler.transform(xtest)\n",
    "ypred = knn.predict(xtest_scaled)\n",
    "accuracy = accuracy_score(ytest, ypred)\n",
    "print(f\"Accuracy: {accuracy}\")\n",
    "print(classification_report(ytest, ypred))\n",
    "print(confusion_matrix(ytest, ypred))\n",
    "#we can see that model is able to predict truly up to 80% labels. \n",
    "#The model is better at predicting class 0 (non-survivors) with higher completeness (recall), but also does well with class 1 (survivors) in terms of precision (accuracy)."
   ]
  },
  {
   "cell_type": "markdown",
   "id": "ae247a56",
   "metadata": {},
   "source": [
    "### Evaluation"
   ]
  },
  {
   "cell_type": "code",
   "execution_count": 475,
   "id": "8b19830d",
   "metadata": {},
   "outputs": [],
   "source": [
    "df1 = pd.read_csv(\"evaluation.csv\")"
   ]
  },
  {
   "cell_type": "code",
   "execution_count": 476,
   "id": "a041c4ee",
   "metadata": {},
   "outputs": [
    {
     "data": {
      "text/html": [
       "<div>\n",
       "<style scoped>\n",
       "    .dataframe tbody tr th:only-of-type {\n",
       "        vertical-align: middle;\n",
       "    }\n",
       "\n",
       "    .dataframe tbody tr th {\n",
       "        vertical-align: top;\n",
       "    }\n",
       "\n",
       "    .dataframe thead th {\n",
       "        text-align: right;\n",
       "    }\n",
       "</style>\n",
       "<table border=\"1\" class=\"dataframe\">\n",
       "  <thead>\n",
       "    <tr style=\"text-align: right;\">\n",
       "      <th></th>\n",
       "      <th>ID</th>\n",
       "      <th>pclass</th>\n",
       "      <th>name</th>\n",
       "      <th>sex</th>\n",
       "      <th>age</th>\n",
       "      <th>sibsp</th>\n",
       "      <th>parch</th>\n",
       "      <th>ticket</th>\n",
       "      <th>fare</th>\n",
       "      <th>cabin</th>\n",
       "      <th>embarked</th>\n",
       "      <th>home.dest</th>\n",
       "    </tr>\n",
       "  </thead>\n",
       "  <tbody>\n",
       "    <tr>\n",
       "      <th>0</th>\n",
       "      <td>1000</td>\n",
       "      <td>3</td>\n",
       "      <td>Stankovic, Mr. Ivan</td>\n",
       "      <td>male</td>\n",
       "      <td>33.0</td>\n",
       "      <td>0</td>\n",
       "      <td>0</td>\n",
       "      <td>349239</td>\n",
       "      <td>8.6625</td>\n",
       "      <td>NaN</td>\n",
       "      <td>C</td>\n",
       "      <td>NaN</td>\n",
       "    </tr>\n",
       "    <tr>\n",
       "      <th>1</th>\n",
       "      <td>1001</td>\n",
       "      <td>1</td>\n",
       "      <td>Flegenheim, Mrs. Alfred (Antoinette)</td>\n",
       "      <td>female</td>\n",
       "      <td>NaN</td>\n",
       "      <td>0</td>\n",
       "      <td>0</td>\n",
       "      <td>PC 17598</td>\n",
       "      <td>31.6833</td>\n",
       "      <td>NaN</td>\n",
       "      <td>S</td>\n",
       "      <td>New York, NY</td>\n",
       "    </tr>\n",
       "    <tr>\n",
       "      <th>2</th>\n",
       "      <td>1002</td>\n",
       "      <td>1</td>\n",
       "      <td>Frauenthal, Mrs. Henry William (Clara Heinshei...</td>\n",
       "      <td>female</td>\n",
       "      <td>NaN</td>\n",
       "      <td>1</td>\n",
       "      <td>0</td>\n",
       "      <td>PC 17611</td>\n",
       "      <td>133.6500</td>\n",
       "      <td>NaN</td>\n",
       "      <td>S</td>\n",
       "      <td>New York, NY</td>\n",
       "    </tr>\n",
       "    <tr>\n",
       "      <th>3</th>\n",
       "      <td>1003</td>\n",
       "      <td>3</td>\n",
       "      <td>Vander Cruyssen, Mr. Victor</td>\n",
       "      <td>male</td>\n",
       "      <td>47.0</td>\n",
       "      <td>0</td>\n",
       "      <td>0</td>\n",
       "      <td>345765</td>\n",
       "      <td>9.0000</td>\n",
       "      <td>NaN</td>\n",
       "      <td>S</td>\n",
       "      <td>NaN</td>\n",
       "    </tr>\n",
       "    <tr>\n",
       "      <th>4</th>\n",
       "      <td>1004</td>\n",
       "      <td>1</td>\n",
       "      <td>Lurette, Miss. Elise</td>\n",
       "      <td>female</td>\n",
       "      <td>58.0</td>\n",
       "      <td>0</td>\n",
       "      <td>0</td>\n",
       "      <td>PC 17569</td>\n",
       "      <td>146.5208</td>\n",
       "      <td>B80</td>\n",
       "      <td>C</td>\n",
       "      <td>NaN</td>\n",
       "    </tr>\n",
       "  </tbody>\n",
       "</table>\n",
       "</div>"
      ],
      "text/plain": [
       "     ID  pclass                                               name     sex  \\\n",
       "0  1000       3                                Stankovic, Mr. Ivan    male   \n",
       "1  1001       1               Flegenheim, Mrs. Alfred (Antoinette)  female   \n",
       "2  1002       1  Frauenthal, Mrs. Henry William (Clara Heinshei...  female   \n",
       "3  1003       3                        Vander Cruyssen, Mr. Victor    male   \n",
       "4  1004       1                               Lurette, Miss. Elise  female   \n",
       "\n",
       "    age  sibsp  parch    ticket      fare cabin embarked     home.dest  \n",
       "0  33.0      0      0    349239    8.6625   NaN        C           NaN  \n",
       "1   NaN      0      0  PC 17598   31.6833   NaN        S  New York, NY  \n",
       "2   NaN      1      0  PC 17611  133.6500   NaN        S  New York, NY  \n",
       "3  47.0      0      0    345765    9.0000   NaN        S           NaN  \n",
       "4  58.0      0      0  PC 17569  146.5208   B80        C           NaN  "
      ]
     },
     "execution_count": 476,
     "metadata": {},
     "output_type": "execute_result"
    }
   ],
   "source": [
    "df1.head()"
   ]
  },
  {
   "cell_type": "markdown",
   "id": "fbe1b387",
   "metadata": {},
   "source": [
    "### Preparation"
   ]
  },
  {
   "cell_type": "code",
   "execution_count": 477,
   "id": "3894ae37",
   "metadata": {},
   "outputs": [],
   "source": [
    "df1[df1.select_dtypes(['object']).columns] =df1.select_dtypes(['object']).astype('category')\n"
   ]
  },
  {
   "cell_type": "code",
   "execution_count": 478,
   "id": "55fef2ea",
   "metadata": {},
   "outputs": [],
   "source": [
    "df1[df1.select_dtypes(['category']).columns] = df1.select_dtypes(['category']).apply(lambda x: x.cat.codes)"
   ]
  },
  {
   "cell_type": "code",
   "execution_count": 479,
   "id": "de6284a1",
   "metadata": {},
   "outputs": [
    {
     "data": {
      "text/html": [
       "<div>\n",
       "<style scoped>\n",
       "    .dataframe tbody tr th:only-of-type {\n",
       "        vertical-align: middle;\n",
       "    }\n",
       "\n",
       "    .dataframe tbody tr th {\n",
       "        vertical-align: top;\n",
       "    }\n",
       "\n",
       "    .dataframe thead th {\n",
       "        text-align: right;\n",
       "    }\n",
       "</style>\n",
       "<table border=\"1\" class=\"dataframe\">\n",
       "  <thead>\n",
       "    <tr style=\"text-align: right;\">\n",
       "      <th></th>\n",
       "      <th>ID</th>\n",
       "      <th>pclass</th>\n",
       "      <th>name</th>\n",
       "      <th>sex</th>\n",
       "      <th>age</th>\n",
       "      <th>sibsp</th>\n",
       "      <th>parch</th>\n",
       "      <th>ticket</th>\n",
       "      <th>fare</th>\n",
       "      <th>cabin</th>\n",
       "      <th>embarked</th>\n",
       "      <th>home.dest</th>\n",
       "    </tr>\n",
       "  </thead>\n",
       "  <tbody>\n",
       "    <tr>\n",
       "      <th>0</th>\n",
       "      <td>1000</td>\n",
       "      <td>3</td>\n",
       "      <td>270</td>\n",
       "      <td>1</td>\n",
       "      <td>33.0</td>\n",
       "      <td>0</td>\n",
       "      <td>0</td>\n",
       "      <td>155</td>\n",
       "      <td>8.6625</td>\n",
       "      <td>-1</td>\n",
       "      <td>0</td>\n",
       "      <td>-1</td>\n",
       "    </tr>\n",
       "    <tr>\n",
       "      <th>1</th>\n",
       "      <td>1001</td>\n",
       "      <td>1</td>\n",
       "      <td>95</td>\n",
       "      <td>0</td>\n",
       "      <td>NaN</td>\n",
       "      <td>0</td>\n",
       "      <td>0</td>\n",
       "      <td>245</td>\n",
       "      <td>31.6833</td>\n",
       "      <td>-1</td>\n",
       "      <td>2</td>\n",
       "      <td>78</td>\n",
       "    </tr>\n",
       "    <tr>\n",
       "      <th>2</th>\n",
       "      <td>1002</td>\n",
       "      <td>1</td>\n",
       "      <td>102</td>\n",
       "      <td>0</td>\n",
       "      <td>NaN</td>\n",
       "      <td>1</td>\n",
       "      <td>0</td>\n",
       "      <td>251</td>\n",
       "      <td>133.6500</td>\n",
       "      <td>-1</td>\n",
       "      <td>2</td>\n",
       "      <td>78</td>\n",
       "    </tr>\n",
       "    <tr>\n",
       "      <th>3</th>\n",
       "      <td>1003</td>\n",
       "      <td>3</td>\n",
       "      <td>287</td>\n",
       "      <td>1</td>\n",
       "      <td>47.0</td>\n",
       "      <td>0</td>\n",
       "      <td>0</td>\n",
       "      <td>121</td>\n",
       "      <td>9.0000</td>\n",
       "      <td>-1</td>\n",
       "      <td>2</td>\n",
       "      <td>-1</td>\n",
       "    </tr>\n",
       "    <tr>\n",
       "      <th>4</th>\n",
       "      <td>1004</td>\n",
       "      <td>1</td>\n",
       "      <td>178</td>\n",
       "      <td>0</td>\n",
       "      <td>58.0</td>\n",
       "      <td>0</td>\n",
       "      <td>0</td>\n",
       "      <td>240</td>\n",
       "      <td>146.5208</td>\n",
       "      <td>11</td>\n",
       "      <td>0</td>\n",
       "      <td>-1</td>\n",
       "    </tr>\n",
       "  </tbody>\n",
       "</table>\n",
       "</div>"
      ],
      "text/plain": [
       "     ID  pclass  name  sex   age  sibsp  parch  ticket      fare  cabin  \\\n",
       "0  1000       3   270    1  33.0      0      0     155    8.6625     -1   \n",
       "1  1001       1    95    0   NaN      0      0     245   31.6833     -1   \n",
       "2  1002       1   102    0   NaN      1      0     251  133.6500     -1   \n",
       "3  1003       3   287    1  47.0      0      0     121    9.0000     -1   \n",
       "4  1004       1   178    0  58.0      0      0     240  146.5208     11   \n",
       "\n",
       "   embarked  home.dest  \n",
       "0         0         -1  \n",
       "1         2         78  \n",
       "2         2         78  \n",
       "3         2         -1  \n",
       "4         0         -1  "
      ]
     },
     "execution_count": 479,
     "metadata": {},
     "output_type": "execute_result"
    }
   ],
   "source": [
    "df1.head()"
   ]
  },
  {
   "cell_type": "code",
   "execution_count": 480,
   "id": "f2ed0f79",
   "metadata": {},
   "outputs": [
    {
     "data": {
      "text/plain": [
       "ID            0\n",
       "pclass        0\n",
       "name          0\n",
       "sex           0\n",
       "age          65\n",
       "sibsp         0\n",
       "parch         0\n",
       "ticket        0\n",
       "fare          0\n",
       "cabin         0\n",
       "embarked      0\n",
       "home.dest     0\n",
       "dtype: int64"
      ]
     },
     "execution_count": 480,
     "metadata": {},
     "output_type": "execute_result"
    }
   ],
   "source": [
    "df1.isnull().sum()"
   ]
  },
  {
   "cell_type": "code",
   "execution_count": 481,
   "id": "2439114a",
   "metadata": {},
   "outputs": [],
   "source": [
    "df1['age'].replace(np.nan, \"-1\", inplace=True)"
   ]
  },
  {
   "cell_type": "markdown",
   "id": "56ace53f",
   "metadata": {},
   "source": [
    "### Testing"
   ]
  },
  {
   "cell_type": "code",
   "execution_count": 482,
   "id": "46b732f9",
   "metadata": {},
   "outputs": [],
   "source": [
    "df1_scaled = scaler.transform(df1)"
   ]
  },
  {
   "cell_type": "code",
   "execution_count": 483,
   "id": "eb29c030",
   "metadata": {},
   "outputs": [],
   "source": [
    "df1_predictions = knn.predict(df1_scaled)"
   ]
  },
  {
   "cell_type": "code",
   "execution_count": 484,
   "id": "766dc43d",
   "metadata": {},
   "outputs": [],
   "source": [
    "results_df = pd.DataFrame({\n",
    "    'ID': df1['ID'],\n",
    "    'survived': df1_predictions\n",
    "})\n"
   ]
  },
  {
   "cell_type": "code",
   "execution_count": 485,
   "id": "ab6282a3",
   "metadata": {},
   "outputs": [],
   "source": [
    "results_df.to_csv('results.csv', index=False)\n"
   ]
  },
  {
   "cell_type": "code",
   "execution_count": 486,
   "id": "5b7e4166",
   "metadata": {},
   "outputs": [
    {
     "data": {
      "text/html": [
       "<div>\n",
       "<style scoped>\n",
       "    .dataframe tbody tr th:only-of-type {\n",
       "        vertical-align: middle;\n",
       "    }\n",
       "\n",
       "    .dataframe tbody tr th {\n",
       "        vertical-align: top;\n",
       "    }\n",
       "\n",
       "    .dataframe thead th {\n",
       "        text-align: right;\n",
       "    }\n",
       "</style>\n",
       "<table border=\"1\" class=\"dataframe\">\n",
       "  <thead>\n",
       "    <tr style=\"text-align: right;\">\n",
       "      <th></th>\n",
       "      <th>ID</th>\n",
       "      <th>survived</th>\n",
       "    </tr>\n",
       "  </thead>\n",
       "  <tbody>\n",
       "    <tr>\n",
       "      <th>0</th>\n",
       "      <td>1000</td>\n",
       "      <td>0</td>\n",
       "    </tr>\n",
       "    <tr>\n",
       "      <th>1</th>\n",
       "      <td>1001</td>\n",
       "      <td>1</td>\n",
       "    </tr>\n",
       "    <tr>\n",
       "      <th>2</th>\n",
       "      <td>1002</td>\n",
       "      <td>1</td>\n",
       "    </tr>\n",
       "    <tr>\n",
       "      <th>3</th>\n",
       "      <td>1003</td>\n",
       "      <td>0</td>\n",
       "    </tr>\n",
       "    <tr>\n",
       "      <th>4</th>\n",
       "      <td>1004</td>\n",
       "      <td>1</td>\n",
       "    </tr>\n",
       "  </tbody>\n",
       "</table>\n",
       "</div>"
      ],
      "text/plain": [
       "     ID  survived\n",
       "0  1000         0\n",
       "1  1001         1\n",
       "2  1002         1\n",
       "3  1003         0\n",
       "4  1004         1"
      ]
     },
     "execution_count": 486,
     "metadata": {},
     "output_type": "execute_result"
    }
   ],
   "source": [
    "results_df.head()"
   ]
  },
  {
   "cell_type": "code",
   "execution_count": null,
   "id": "3a244ece",
   "metadata": {},
   "outputs": [],
   "source": []
  }
 ],
 "metadata": {
  "kernelspec": {
   "display_name": "Python 3 (ipykernel)",
   "language": "python",
   "name": "python3"
  },
  "language_info": {
   "codemirror_mode": {
    "name": "ipython",
    "version": 3
   },
   "file_extension": ".py",
   "mimetype": "text/x-python",
   "name": "python",
   "nbconvert_exporter": "python",
   "pygments_lexer": "ipython3",
   "version": "3.11.7"
  }
 },
 "nbformat": 4,
 "nbformat_minor": 5
}
